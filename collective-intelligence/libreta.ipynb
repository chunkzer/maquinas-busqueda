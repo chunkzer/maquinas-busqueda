{
 "cells": [
  {
   "cell_type": "markdown",
   "metadata": {},
   "source": [
    "# Búsqueda y ranqueo de páginas web\n",
    "\n",
    "Este documento presenta una revisión y reimplementación del buscador de páginas web desarrollado en el capítulo 4 del *libro Programming Collective Intelligence*.\n",
    "\n",
    "## Diseño del buscador\n",
    "\n",
    "## Implementación\n",
    "\n",
    "### Módulos\n",
    "\n",
    "Se utilizarán algunon módulos de Python que facilitará la implementación del buscador, en particular con el almacenamiento de la información (bases de datos) y la recolección e interpretación de las páginas web (descarga y parseo de documentos HTML)."
   ]
  },
  {
   "cell_type": "code",
   "execution_count": 1,
   "metadata": {
    "collapsed": true
   },
   "outputs": [],
   "source": [
    "import urllib2\n",
    "from bs4 import*\n",
    "from urlparse import urljoin\n",
    "from sqlite3 import dbapi2 as sqlite\n",
    "import re"
   ]
  },
  {
   "cell_type": "markdown",
   "metadata": {},
   "source": [
    "### Información de prueba\n",
    "\n",
    "Se diseñó el sitio web http://eduardoacye.github.io para realizar las pruebas del buscador implementado y se utilizan las *stop words* en español del sitio https://code.google.com/p/stop-words/"
   ]
  },
  {
   "cell_type": "code",
   "execution_count": 2,
   "metadata": {
    "collapsed": true
   },
   "outputs": [],
   "source": [
    "test_urls = [\"http://eduardoacye.github.io\"]\n",
    "test_db   = \"searchindex.db\"\n",
    "ignore_words = set([line.strip() for line in\n",
    "                    open(\"stop-words/stop-words_spanish_1_es.txt\", \"r\")]\n",
    "                   +\n",
    "                   [line.strip() for line in\n",
    "                    open(\"stop-words/stop-words_spanish_2_es.txt\", \"r\")])\n"
   ]
  },
  {
   "cell_type": "markdown",
   "metadata": {},
   "source": [
    "### Funciones para el indexado\n",
    "\n",
    "#### get_page\n",
    "\n",
    "- `url` es una cadena de caracteres.\n",
    "\n",
    "Regresa el contenido y la codificación de la página asociada a la URL"
   ]
  },
  {
   "cell_type": "code",
   "execution_count": 3,
   "metadata": {
    "collapsed": true
   },
   "outputs": [],
   "source": [
    "def get_page(url):\n",
    "    try:\n",
    "        resource = urllib2.urlopen(url)\n",
    "    except:\n",
    "        raise Exception(\"Could not open %s\" % url)\n",
    "    encoding = resource.headers[\"content-type\"].split(\"charset=\")[-1]\n",
    "    content = unicode(resource.read(), encoding)\n",
    "    return content, encoding"
   ]
  },
  {
   "cell_type": "markdown",
   "metadata": {},
   "source": [
    "#### parse_page\n",
    "\n",
    "- `content` es una cadena unicode cuyo contenido son los caracteres que conforman a una página en HTML.\n",
    "\n",
    "Regresa un objeto BeautifulSoup que representa el HTML parseado."
   ]
  },
  {
   "cell_type": "code",
   "execution_count": 4,
   "metadata": {
    "collapsed": true
   },
   "outputs": [],
   "source": [
    "def parse_page(content):\n",
    "    html_tree = BeautifulSoup(content)\n",
    "    return html_tree"
   ]
  },
  {
   "cell_type": "markdown",
   "metadata": {},
   "source": [
    "#### has_href\n",
    "\n",
    "- `link` es un objeto `BeautifulSoup.Tag`.\n",
    "\n",
    "Regresa un booleano determinando si el enlace contiene un atributo href."
   ]
  },
  {
   "cell_type": "code",
   "execution_count": 5,
   "metadata": {
    "collapsed": true
   },
   "outputs": [],
   "source": [
    "def has_href(link):\n",
    "    return \"href\" in link.attrs"
   ]
  },
  {
   "cell_type": "markdown",
   "metadata": {},
   "source": [
    "#### link_url\n",
    "\n",
    "- `base_url` es una cadena de caracteres que representa una URL.\n",
    "- `link` es un objeto BeautifulSoup.Tag.\n",
    "\n",
    "Regresa una cadena de caracteres que representa la URL del enlace."
   ]
  },
  {
   "cell_type": "code",
   "execution_count": 6,
   "metadata": {
    "collapsed": true
   },
   "outputs": [],
   "source": [
    "def link_url(base_url, link):\n",
    "    url = urljoin(base_url, link[\"href\"])\n",
    "    if url.find(\"'\") != -1:\n",
    "        raise Exception(\"Malformed URL %s\" % url)\n",
    "    url = url.split(\"#\")[0]\n",
    "    return url"
   ]
  },
  {
   "cell_type": "markdown",
   "metadata": {},
   "source": [
    "#### is_http\n",
    "\n",
    "- `url` es una cadena de caracteres que representa una URL.\n",
    "\n",
    "Regresa un booleano determinando si el recurso web que indica la URL es\n",
    "una página web."
   ]
  },
  {
   "cell_type": "code",
   "execution_count": 7,
   "metadata": {
    "collapsed": true
   },
   "outputs": [],
   "source": [
    "def is_http(url):\n",
    "    return url[0:4] == \"http\""
   ]
  },
  {
   "cell_type": "markdown",
   "metadata": {},
   "source": [
    "#### db_connect\n",
    "\n",
    "- `db_name` es una cadena de caracteres que representa el nombre de la base de una base de datos.\n",
    "\n",
    "Regresa una conexión a la base de datos especificada por el nombre."
   ]
  },
  {
   "cell_type": "code",
   "execution_count": 8,
   "metadata": {
    "collapsed": true
   },
   "outputs": [],
   "source": [
    "def db_connect(db_name):\n",
    "    return sqlite.connect(db_name)"
   ]
  },
  {
   "cell_type": "markdown",
   "metadata": {},
   "source": [
    "#### db_close\n",
    "\n",
    "- `connection` es un objeto obtenido con una llamada a `db_connect`.\n",
    "\n",
    "Cierra la conexión con la base de datos."
   ]
  },
  {
   "cell_type": "code",
   "execution_count": 9,
   "metadata": {
    "collapsed": true
   },
   "outputs": [],
   "source": [
    "def db_close(connection):\n",
    "    connection.close()"
   ]
  },
  {
   "cell_type": "markdown",
   "metadata": {},
   "source": [
    "#### db_commit\n",
    "\n",
    "- `connection` es un objeto obtenido con una llamada a `db_connect`.\n",
    "\n",
    "Guarda en la base de datos los cambios realizados."
   ]
  },
  {
   "cell_type": "code",
   "execution_count": 10,
   "metadata": {
    "collapsed": true
   },
   "outputs": [],
   "source": [
    "def db_commit(connection):\n",
    "    connection.commit()"
   ]
  },
  {
   "cell_type": "markdown",
   "metadata": {},
   "source": [
    "#### db_create_tables\n",
    "\n",
    "- `connection` es un objeto obtenido con una llamada a `db_connect`.\n",
    "\n",
    "Crea las tablas de la base de datos correspondientes a la funcionalidad\n",
    "del crawler."
   ]
  },
  {
   "cell_type": "code",
   "execution_count": 11,
   "metadata": {
    "collapsed": true
   },
   "outputs": [],
   "source": [
    "def db_create_tables(connection):\n",
    "    connection.execute(\"create table urllist(url)\")\n",
    "    connection.execute(\"create table wordlist(word)\")\n",
    "    connection.execute(\"create table wordlocation(urlid, wordid, location)\")\n",
    "    connection.execute(\"create table link(fromid integer, toid integer)\")\n",
    "    connection.execute(\"create table linkwords(wordid, linkid)\")\n",
    "    connection.execute(\"create index wordidx on wordlist(word)\")\n",
    "    connection.execute(\"create index urlidx on urllist(url)\")\n",
    "    connection.execute(\"create index wordurlidx on wordlocation(wordid)\")\n",
    "    connection.execute(\"create index urltoidx on link(toid)\")\n",
    "    connection.execute(\"create index urlfromidx on link(fromid)\")\n",
    "    db_commit(connection)"
   ]
  },
  {
   "cell_type": "markdown",
   "metadata": {},
   "source": [
    "#### db_get_table y db_get_tables\n",
    "\n",
    "**Para db_get_table:**\n",
    "\n",
    "- `connection` es un objeto obtenido con una llamada a `db_connect`.\n",
    "-`table` es una cadena de caracteres que representa el nombre de la tabla en la base de datos.\n",
    "\n",
    "Regresa una lista con el contenido de la tabla especificada.\n",
    "\n",
    "**Para db_get_tables:**\n",
    "\n",
    "- `connection` es un objeto obtenido con una llamada a `db_connect`.\n",
    "\n",
    "Regresa una tupla con listas con el contenido de cada tabla en la base de datos."
   ]
  },
  {
   "cell_type": "code",
   "execution_count": 12,
   "metadata": {
    "collapsed": true
   },
   "outputs": [],
   "source": [
    "def db_get_table(connection, table):\n",
    "    table = connection.execute(\"select * from %s\" % table)\n",
    "    return table.fetchall()\n",
    "\n",
    "def db_get_tables(connection):\n",
    "    return (db_get_table(connection, \"urllist\"),\n",
    "            db_get_table(connection, \"wordlist\"),\n",
    "            db_get_table(connection, \"wordlocation\"),\n",
    "            db_get_table(connection, \"link\"),\n",
    "            db_get_table(connection, \"linkwords\"))"
   ]
  },
  {
   "cell_type": "markdown",
   "metadata": {},
   "source": [
    "#### is_indexed\n",
    "\n",
    "- `connection` es un objeto obtenido con una llamada a `db_connect`.\n",
    "- `url` es una cadena de caracteres que representa una URL.\n",
    "\n",
    "Regresa un booleano que determina si la URL ya fué inspeccionada por el crawler."
   ]
  },
  {
   "cell_type": "code",
   "execution_count": 13,
   "metadata": {
    "collapsed": true
   },
   "outputs": [],
   "source": [
    "def is_indexed(connection, url):\n",
    "    table = connection.execute(\"select rowid from urllist where url='%s'\" % url)\n",
    "    result = table.fetchone()\n",
    "    if result is not None:\n",
    "        url_id = connection.execute(\"select * from wordlocation where urlid = %d\"\n",
    "                                    % result[0]).fetchone()\n",
    "        if url_id is not None:\n",
    "            return True\n",
    "    return False"
   ]
  },
  {
   "cell_type": "markdown",
   "metadata": {},
   "source": [
    "#### strip_html_tags\n",
    "\n",
    "- `html` es un objeto `BeautifulSoup`.\n",
    "\n",
    "Regresa una cadena unicode con el contenido del HTML sin las etiquetas."
   ]
  },
  {
   "cell_type": "code",
   "execution_count": 14,
   "metadata": {
    "collapsed": true
   },
   "outputs": [],
   "source": [
    "def strip_html_tags(html):\n",
    "    html_inside_tag = html.string\n",
    "    if html_inside_tag is None:\n",
    "        resulting_text = \"\"\n",
    "        for tag in html.contents:\n",
    "            sub_text = strip_html_tags(tag)\n",
    "            resulting_text += sub_text + \"\\n\"\n",
    "        return resulting_text\n",
    "    else:\n",
    "        return html_inside_tag.strip()"
   ]
  },
  {
   "cell_type": "markdown",
   "metadata": {},
   "source": [
    "#### separate_words\n",
    "\n",
    "- `text` es una cadena unicode que representa algún texto.\n",
    "\n",
    "Regresa una lista con las palabras del texto."
   ]
  },
  {
   "cell_type": "code",
   "execution_count": 15,
   "metadata": {
    "collapsed": true
   },
   "outputs": [],
   "source": [
    "def separate_words(text):\n",
    "    splitter = re.compile(ur\"\\W*\", re.UNICODE)\n",
    "    splitted = splitter.split(text)\n",
    "    return [s.lower() for s in splitted if s != \"\"]"
   ]
  },
  {
   "cell_type": "markdown",
   "metadata": {},
   "source": [
    "#### select_entry_id\n",
    "\n",
    "- `connection` es un obteto obtenido con una llamada a `db_connect`.\n",
    "- `table` es una cadena de caracteres que representa el nombre de una tabla de la base de datos.\n",
    "- `column` es una cadena de caracteres que representa el nombre de una columna de la tabla especificada de la base de datos.\n",
    "- `value`. es un valor que puede estar almacenado en la columna especificada de la tabla especificada de la base de datos.\n",
    "\n",
    "Regresa `None` si no se encontró una entrada con el valor en la columna de la tabla, de lo contrario se regresa el id de la entrada."
   ]
  },
  {
   "cell_type": "code",
   "execution_count": 16,
   "metadata": {
    "collapsed": true
   },
   "outputs": [],
   "source": [
    "def select_entry_id(connection, table, column, value):\n",
    "    table = connection.execute(\"select rowid from %s where %s = '%s'\"\n",
    "                               % (table, column, value))\n",
    "    result = table.fetchone()\n",
    "    if result is None:\n",
    "        return result\n",
    "    else:\n",
    "        return result[0]"
   ]
  },
  {
   "cell_type": "markdown",
   "metadata": {},
   "source": [
    "#### insert_entry\n",
    "\n",
    "- `connection` es un obteto obtenido con una llamada a `db_connect`.\n",
    "- `table` es una cadena de caracteres que representa el nombre de una tabla de la base de datos.\n",
    "- `column` es una cadena de caracteres que representa el nombre de una columna de la tabla especificada de la base de datos.\n",
    "- `value` es un valor que puede estar almacenado en la columna especificada de la tabla especificada de la base de datos.\n",
    "\n",
    "Crea una nueva entrada en la tabla especificada con el valor dado en la columna especificada."
   ]
  },
  {
   "cell_type": "code",
   "execution_count": 17,
   "metadata": {
    "collapsed": true
   },
   "outputs": [],
   "source": [
    "def insert_entry(connection, table, column, value):\n",
    "    table = connection.execute(\"insert into %s (%s) values ('%s')\"\n",
    "                               % (table, column, value))\n",
    "    return table.lastrowid"
   ]
  },
  {
   "cell_type": "markdown",
   "metadata": {},
   "source": [
    "#### index_page_words y index_page\n",
    "\n",
    "**Para index_page_words:**\n",
    "\n",
    "- `connection` es un objeto obtenido con una llamada a `db_connect`.\n",
    "- `url_id` es un id de la base de datos que está asociada a una página web.\n",
    "- `words` es una lista de palabras.\n",
    "\n",
    "Relaciona las palabras con la URL en la base de datos.\n",
    "\n",
    "**Para index_page:**\n",
    "\n",
    "- `connection` es un objeto obtenido con una llamada a `db_connect`.\n",
    "- `url` es una cadena de caracteres que representa una URL.\n",
    "- `html` es un objeto `BeautifulSoup`.\n",
    "\n",
    "Procesa el documento de HTML para relacionar las palabras en el\n",
    "documento con la URL."
   ]
  },
  {
   "cell_type": "code",
   "execution_count": 18,
   "metadata": {
    "collapsed": true
   },
   "outputs": [],
   "source": [
    "def index_page_words(connection, url_id, words):\n",
    "    print \"      INDEXING WORDS FROM URL ID %s\" % url_id\n",
    "    for i in range(len(words)):\n",
    "        word = words[i]\n",
    "        if word in ignore_words:\n",
    "            continue\n",
    "        word_id = select_entry_id(connection, \"wordlist\", \"word\", word)\n",
    "        if word_id is None:\n",
    "            print \"        %s\" % word\n",
    "            insert_entry(connection, \"wordlist\", \"word\", word)\n",
    "            word_id = select_entry_id(connection, \"wordlist\", \"word\", word)\n",
    "        connection.execute(\"insert into wordlocation(urlid, wordid, location) values (%d,%d,%d)\"\n",
    "                           % (url_id, word_id, i))\n",
    "\n",
    "def index_page(connection, url, html):\n",
    "    if is_indexed(connection, url):\n",
    "        return\n",
    "    print \"    INDEXING %s\" % url\n",
    "    text = strip_html_tags(html)\n",
    "    words = separate_words(text)\n",
    "\n",
    "    url_id = select_entry_id(connection, \"urllist\", \"url\", url)\n",
    "    if url_id is None:\n",
    "        insert_entry(connection, \"urllist\", \"url\", url)\n",
    "        url_id = select_entry_id(connection, \"urllist\", \"url\", url)\n",
    "    index_page_words(connection, url_id, words)\n",
    "    print \"      INDEXED! %s\" % url"
   ]
  },
  {
   "cell_type": "markdown",
   "metadata": {},
   "source": [
    "#### index_link_words y index_link\n",
    "\n",
    "**Para index_link_words:**\n",
    "\n",
    "- `connection` es un objeto obtenido con una llamada a `db_connect`.\n",
    "- `link_id` es un id de la base de datos que está asociada a enlace.\n",
    "- `words` es una lista de palabras.\n",
    "\n",
    "Relaciona las palabras con el enlace en la base de datos.\n",
    "\n",
    "**Para index_link:**\n",
    "\n",
    "- `connection` es un objeto obtenido con una llamada a `db_connect`.\n",
    "- `from_url` es una cadena de caracteres que representa una URL.\n",
    "- `to_url` es una cadena de caracteres que representa una URL.\n",
    "- `link` es un objeto `BeautifulSoup.Tag`.\n",
    "\n",
    "Procesa la etiqueta de HTML <a...>...</a> para relacionar las palabras en el enlace con las URLs involucradas."
   ]
  },
  {
   "cell_type": "code",
   "execution_count": 19,
   "metadata": {
    "collapsed": true
   },
   "outputs": [],
   "source": [
    "def index_link_words(connection, link_id, words):\n",
    "    for word in words:\n",
    "        if word in ignore_words:\n",
    "            continue\n",
    "        word_id = select_entry_id(connection, \"wordlist\", \"word\", word)\n",
    "        if word_id is None:\n",
    "            print \"        PALABRA %s\" % word\n",
    "            insert_entry(connection, \"wordlist\", \"word\", word)\n",
    "            word_id = select_entry_id(connection, \"wordlist\", \"word\", word)\n",
    "        connection.execute(\"insert into linkwords(wordid, linkid) values (%d,%d)\"\n",
    "                           % (word_id, link_id))\n",
    "\n",
    "def index_link(connection, from_url, to_url, link):\n",
    "    text = strip_html_tags(link)\n",
    "    words = separate_words(text)\n",
    "\n",
    "    from_url_id = select_entry_id(connection, \"urllist\", \"url\", from_url)\n",
    "    if from_url_id is None:\n",
    "        insert_entry(connection, \"urllist\", \"url\", from_url)\n",
    "        from_url_id = select_entry_id(connection, \"urllist\", \"url\", from_url)\n",
    "    to_url_id = select_entry_id(connection, \"urllist\", \"url\", to_url)\n",
    "    if to_url_id is None:\n",
    "        insert_entry(connection, \"urllist\", \"url\", to_url)\n",
    "        to_url_id = select_entry_id(connection, \"urllist\", \"url\", to_url)\n",
    "\n",
    "    if from_url_id == to_url_id:\n",
    "        return\n",
    "    table = connection.execute(\"insert into link (fromid, toid) values (%d,%d)\"\n",
    "                               % (from_url_id, to_url_id))\n",
    "    link_id = table.lastrowid\n",
    "    index_link_words(connection, link_id, words)"
   ]
  },
  {
   "cell_type": "markdown",
   "metadata": {},
   "source": [
    "#### crawl\n",
    "\n",
    "- `urls` es una lista de cadenas de caracteres que representan URLs.\n",
    "- `connection` es un objeto obtenido con una llamada `db_connect`.\n",
    "- `depth` es un entero positivo que representa la profundidad a la que se procesarán las páginas (similar a la profundidad de una búsqueda en grafos).\n",
    "\n",
    "Navega por páginas web a partir de la lista de URLs dada, procesando palabras y enlaces."
   ]
  },
  {
   "cell_type": "code",
   "execution_count": 20,
   "metadata": {
    "collapsed": true
   },
   "outputs": [],
   "source": [
    "def crawl(urls, connection, depth=2):\n",
    "    print \"CRAWL\"\n",
    "    for i in range(depth):\n",
    "        print \"  DEPTH %d\" % i\n",
    "        new_urls = set()\n",
    "        print \"  URLs %s\" % urls\n",
    "        for url in urls:\n",
    "            content, encoding = get_page(url)\n",
    "            html = parse_page(content)\n",
    "            print \"    VISITED %s\" % url\n",
    "            index_page(connection, url, html)\n",
    "\n",
    "            links = html.select(\"a\")\n",
    "            for link in links:\n",
    "                if has_href(link):\n",
    "                    ref_url = link_url(url, link)\n",
    "                    if is_http(ref_url) and not is_indexed(connection, ref_url):\n",
    "                        new_urls.add(ref_url)\n",
    "                    index_link(connection, url, ref_url, link)\n",
    "        urls = list(new_urls)"
   ]
  },
  {
   "cell_type": "code",
   "execution_count": null,
   "metadata": {
    "collapsed": true
   },
   "outputs": [],
   "source": []
  }
 ],
 "metadata": {
  "kernelspec": {
   "display_name": "Python 2",
   "language": "python",
   "name": "python2"
  },
  "language_info": {
   "codemirror_mode": {
    "name": "ipython",
    "version": 2
   },
   "file_extension": ".py",
   "mimetype": "text/x-python",
   "name": "python",
   "nbconvert_exporter": "python",
   "pygments_lexer": "ipython2",
   "version": "2.7.10"
  }
 },
 "nbformat": 4,
 "nbformat_minor": 0
}
